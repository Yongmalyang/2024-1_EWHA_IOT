{
  "nbformat": 4,
  "nbformat_minor": 0,
  "metadata": {
    "colab": {
      "provenance": [],
      "authorship_tag": "ABX9TyM4Rg7krnRuBSxmT/KesPNB",
      "include_colab_link": true
    },
    "kernelspec": {
      "name": "python3",
      "display_name": "Python 3"
    },
    "language_info": {
      "name": "python"
    }
  },
  "cells": [
    {
      "cell_type": "markdown",
      "metadata": {
        "id": "view-in-github",
        "colab_type": "text"
      },
      "source": [
        "<a href=\"https://colab.research.google.com/github/Yongmalyang/2024-1_EWHA_IOT/blob/main/random_thingsspeak_ljy.ipynb\" target=\"_parent\"><img src=\"https://colab.research.google.com/assets/colab-badge.svg\" alt=\"Open In Colab\"/></a>"
      ]
    },
    {
      "cell_type": "code",
      "execution_count": null,
      "metadata": {
        "colab": {
          "base_uri": "https://localhost:8080/"
        },
        "id": "QUTOljVldCuG",
        "outputId": "830b6d65-2d0a-43bb-cb57-ecb57cbe9449"
      },
      "outputs": [
        {
          "output_type": "stream",
          "name": "stdout",
          "text": [
            "3\n",
            "4\n",
            "5\n",
            "6\n",
            "7\n",
            "8\n"
          ]
        }
      ],
      "source": [
        "import requests\n",
        "import time\n",
        "\n",
        "a=[45,13,89,44,22,100]\n",
        "for x in a:\n",
        "  r=requests.get('https://api.thingspeak.com/update?api_key=DN9D2CNWTW5EZDNS&field1=0'+ str(x))\n",
        "  print(r.text)\n",
        "  time.sleep(20)"
      ]
    },
    {
      "cell_type": "code",
      "source": [
        "import random\n",
        "\n",
        "for i in range(5):\n",
        "  v=random.randint(0,100)\n",
        "  r=requests.get('https://api.thingspeak.com/update?api_key=DN9D2CNWTW5EZDNS&field1=0'+ str(v))\n",
        "  print(r.text, v)\n",
        "  time.sleep(20)"
      ],
      "metadata": {
        "colab": {
          "base_uri": "https://localhost:8080/"
        },
        "id": "oGdp265Be3_h",
        "outputId": "e761e990-9922-457d-e5a2-b382f3800b8b"
      },
      "execution_count": null,
      "outputs": [
        {
          "output_type": "stream",
          "name": "stdout",
          "text": [
            "9 73\n",
            "10 70\n",
            "11 34\n",
            "12 46\n",
            "13 35\n"
          ]
        }
      ]
    }
  ]
}