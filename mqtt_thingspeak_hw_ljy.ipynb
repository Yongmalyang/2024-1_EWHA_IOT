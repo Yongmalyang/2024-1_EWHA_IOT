{
  "nbformat": 4,
  "nbformat_minor": 0,
  "metadata": {
    "colab": {
      "provenance": [],
      "authorship_tag": "ABX9TyN3irZbdpRV9hvq4iDirKk0",
      "include_colab_link": true
    },
    "kernelspec": {
      "name": "python3",
      "display_name": "Python 3"
    },
    "language_info": {
      "name": "python"
    }
  },
  "cells": [
    {
      "cell_type": "markdown",
      "metadata": {
        "id": "view-in-github",
        "colab_type": "text"
      },
      "source": [
        "<a href=\"https://colab.research.google.com/github/Yongmalyang/2024-1_EWHA_IOT/blob/main/mqtt_thingspeak_hw_ljy.ipynb\" target=\"_parent\"><img src=\"https://colab.research.google.com/assets/colab-badge.svg\" alt=\"Open In Colab\"/></a>"
      ]
    },
    {
      "cell_type": "code",
      "execution_count": 1,
      "metadata": {
        "colab": {
          "base_uri": "https://localhost:8080/"
        },
        "id": "JDSxWmz6Yg47",
        "outputId": "92b5edaf-c80a-436c-9022-81460ffea215"
      },
      "outputs": [
        {
          "output_type": "stream",
          "name": "stdout",
          "text": [
            "Collecting paho-mqtt\n",
            "  Downloading paho_mqtt-2.0.0-py3-none-any.whl (66 kB)\n",
            "\u001b[2K     \u001b[90m━━━━━━━━━━━━━━━━━━━━━━━━━━━━━━━━━━━━━━━━\u001b[0m \u001b[32m66.9/66.9 kB\u001b[0m \u001b[31m1.1 MB/s\u001b[0m eta \u001b[36m0:00:00\u001b[0m\n",
            "\u001b[?25hInstalling collected packages: paho-mqtt\n",
            "Successfully installed paho-mqtt-2.0.0\n"
          ]
        }
      ],
      "source": [
        "!pip install paho-mqtt"
      ]
    },
    {
      "cell_type": "code",
      "source": [
        "import json\n",
        "import requests\n",
        "n=0\n",
        "\n",
        "def doit(topic, payload):\n",
        "  global n\n",
        "  print(topic, payload)\n",
        "  j=json.loads(payload)\n",
        "  #print(j['co2'])\n",
        "  url='https://api.thingspeak.com/update?api_key=485Z6LNRL1V40HKX'\n",
        "  url +='&field1='+j['co2']\n",
        "  url +='&field2='+j['bme680'].split(',')[0]\n",
        "  if n>15:\n",
        "    r=requests.get(url)\n",
        "    print(url, r.text)\n",
        "    n=0\n",
        "  n+=1"
      ],
      "metadata": {
        "id": "vm648Pm3YqGt"
      },
      "execution_count": 2,
      "outputs": []
    },
    {
      "cell_type": "code",
      "source": [
        "import paho.mqtt.client as mqtt\n",
        "\n",
        "def on_connect(client, userdata, flags, reason_code, properties):\n",
        "    print(f\"Connected with result code {reason_code}\")\n",
        "    client.subscribe(\"connectware/indoor/data/1501\")\n",
        "\n",
        "def on_message(client, userdata, msg):\n",
        "    doit(msg.topic, msg.payload.decode('utf8'))\n",
        "\n",
        "client = mqtt.Client(mqtt.CallbackAPIVersion.VERSION2)\n",
        "client.on_connect = on_connect\n",
        "client.on_message = on_message\n",
        "\n",
        "client.connect(\"damoa.io\", 1883, 60)\n",
        "client.loop_forever()"
      ],
      "metadata": {
        "colab": {
          "base_uri": "https://localhost:8080/"
        },
        "id": "-bw4vUb0YsnW",
        "outputId": "ccd456f6-e8d3-4ab9-d3d3-469c8545d576"
      },
      "execution_count": null,
      "outputs": [
        {
          "output_type": "stream",
          "name": "stdout",
          "text": [
            "Connected with result code Success\n",
            "connectware/indoor/data/1501 {\"dust\":\"51,63\",\"co2\":\"414\",\"bme680\":\"22.09,31.33,955934,101248,6.41\",\"time\":\"2024-04-06 09:23:24\", \"serial\":151059, \"ip\":\"203.255.190.49\"}\n",
            "connectware/indoor/data/1501 {\"dust\":\"51,63\",\"co2\":\"414\",\"bme680\":\"22.09,31.35,951875,101248,6.41\",\"time\":\"2024-04-06 09:23:25\", \"serial\":151060, \"ip\":\"203.255.190.49\"}\n",
            "connectware/indoor/data/1501 {\"dust\":\"51,63\",\"co2\":\"414\",\"bme680\":\"22.09,31.35,956614,101248,6.50\",\"time\":\"2024-04-06 09:23:26\", \"serial\":151061, \"ip\":\"203.255.190.49\"}\n",
            "connectware/indoor/data/1501 {\"dust\":\"51,64\",\"co2\":\"414\",\"bme680\":\"22.09,31.35,949188,101248,6.41\",\"time\":\"2024-04-06 09:23:27\", \"serial\":151062, \"ip\":\"203.255.190.49\"}\n",
            "connectware/indoor/data/1501 {\"dust\":\"50,62\",\"co2\":\"414\",\"bme680\":\"22.09,31.36,947183,101249,6.33\",\"time\":\"2024-04-06 09:23:28\", \"serial\":151063, \"ip\":\"203.255.190.49\"}\n",
            "connectware/indoor/data/1501 {\"dust\":\"50,61\",\"co2\":\"414\",\"bme680\":\"22.09,31.36,946516,101249,6.33\",\"time\":\"2024-04-06 09:23:29\", \"serial\":151064, \"ip\":\"203.255.190.49\"}\n",
            "connectware/indoor/data/1501 {\"dust\":\"49,60\",\"co2\":\"414\",\"bme680\":\"22.09,31.38,952549,101250,6.33\",\"time\":\"2024-04-06 09:23:30\", \"serial\":151065, \"ip\":\"203.255.190.49\"}\n",
            "connectware/indoor/data/1501 {\"dust\":\"49,60\",\"co2\":\"414\",\"bme680\":\"22.09,31.37,952549,101249,6.25\",\"time\":\"2024-04-06 09:23:31\", \"serial\":151066, \"ip\":\"203.255.190.49\"}\n",
            "connectware/indoor/data/1501 {\"dust\":\"49,60\",\"co2\":\"414\",\"bme680\":\"22.09,31.38,956614,101249,6.33\",\"time\":\"2024-04-06 09:23:32\", \"serial\":151067, \"ip\":\"203.255.190.49\"}\n",
            "connectware/indoor/data/1501 {\"dust\":\"50,62\",\"co2\":\"413\",\"bme680\":\"22.09,31.39,947183,101248,6.33\",\"time\":\"2024-04-06 09:23:33\", \"serial\":151068, \"ip\":\"203.255.190.49\"}\n",
            "connectware/indoor/data/1501 {\"dust\":\"50,62\",\"co2\":\"413\",\"bme680\":\"22.09,31.41,949188,101249,6.25\",\"time\":\"2024-04-06 09:23:34\", \"serial\":151069, \"ip\":\"203.255.190.49\"}\n",
            "connectware/indoor/data/1501 {\"dust\":\"50,62\",\"co2\":\"413\",\"bme680\":\"22.09,31.42,947183,101250,6.25\",\"time\":\"2024-04-06 09:23:35\", \"serial\":151070, \"ip\":\"203.255.190.49\"}\n",
            "connectware/indoor/data/1501 {\"dust\":\"49,61\",\"co2\":\"413\",\"bme680\":\"22.10,31.40,951875,101250,6.25\",\"time\":\"2024-04-06 09:23:36\", \"serial\":151071, \"ip\":\"203.255.190.49\"}\n",
            "connectware/indoor/data/1501 {\"dust\":\"49,61\",\"co2\":\"413\",\"bme680\":\"22.10,31.43,941217,101249,6.25\",\"time\":\"2024-04-06 09:23:37\", \"serial\":151072, \"ip\":\"203.255.190.49\"}\n",
            "connectware/indoor/data/1501 {\"dust\":\"49,63\",\"co2\":\"412\",\"bme680\":\"22.10,31.44,953224,101251,6.33\",\"time\":\"2024-04-06 09:23:38\", \"serial\":151073, \"ip\":\"203.255.190.49\"}\n",
            "connectware/indoor/data/1501 {\"dust\":\"50,64\",\"co2\":\"412\",\"bme680\":\"22.10,31.44,957977,101249,6.33\",\"time\":\"2024-04-06 09:23:39\", \"serial\":151074, \"ip\":\"203.255.190.49\"}\n",
            "connectware/indoor/data/1501 {\"dust\":\"51,65\",\"co2\":\"412\",\"bme680\":\"22.10,31.46,950530,101249,6.25\",\"time\":\"2024-04-06 09:23:40\", \"serial\":151075, \"ip\":\"203.255.190.49\"}\n",
            "https://api.thingspeak.com/update?api_key=485Z6LNRL1V40HKX&field1=412&field2=22.10 1\n",
            "connectware/indoor/data/1501 {\"dust\":\"51,65\",\"co2\":\"412\",\"bme680\":\"22.10,31.46,951875,101250,6.33\",\"time\":\"2024-04-06 09:23:41\", \"serial\":151076, \"ip\":\"203.255.190.49\"}\n",
            "connectware/indoor/data/1501 {\"dust\":\"51,63\",\"co2\":\"412\",\"bme680\":\"22.10,31.47,951202,101249,6.33\",\"time\":\"2024-04-06 09:23:42\", \"serial\":151077, \"ip\":\"203.255.190.49\"}\n",
            "connectware/indoor/data/1501 {\"dust\":\"51,63\",\"co2\":\"412\",\"bme680\":\"22.10,31.48,949188,101249,6.33\",\"time\":\"2024-04-06 09:23:43\", \"serial\":151078, \"ip\":\"203.255.190.49\"}\n",
            "connectware/indoor/data/1501 {\"dust\":\"51,64\",\"co2\":\"412\",\"bme680\":\"22.10,31.49,939902,101250,6.25\",\"time\":\"2024-04-06 09:23:44\", \"serial\":151079, \"ip\":\"203.255.190.49\"}\n",
            "connectware/indoor/data/1501 {\"dust\":\"51,67\",\"co2\":\"412\",\"bme680\":\"22.10,31.49,950530,101250,6.25\",\"time\":\"2024-04-06 09:23:45\", \"serial\":151080, \"ip\":\"203.255.190.49\"}\n",
            "connectware/indoor/data/1501 {\"dust\":\"51,67\",\"co2\":\"412\",\"bme680\":\"22.10,31.50,947850,101251,6.16\",\"time\":\"2024-04-06 09:23:46\", \"serial\":151081, \"ip\":\"203.255.190.49\"}\n",
            "connectware/indoor/data/1501 {\"dust\":\"51,67\",\"co2\":\"412\",\"bme680\":\"22.10,31.51,945186,101251,6.25\",\"time\":\"2024-04-06 09:23:47\", \"serial\":151082, \"ip\":\"203.255.190.49\"}\n",
            "connectware/indoor/data/1501 {\"dust\":\"50,66\",\"co2\":\"412\",\"bme680\":\"22.10,31.51,946516,101249,6.33\",\"time\":\"2024-04-06 09:23:48\", \"serial\":151083, \"ip\":\"203.255.190.49\"}\n",
            "connectware/indoor/data/1501 {\"dust\":\"50,66\",\"co2\":\"412\",\"bme680\":\"22.10,31.52,947183,101249,6.33\",\"time\":\"2024-04-06 09:23:49\", \"serial\":151084, \"ip\":\"203.255.190.49\"}\n",
            "connectware/indoor/data/1501 {\"dust\":\"50,66\",\"co2\":\"412\",\"bme680\":\"22.10,31.53,947183,101249,6.25\",\"time\":\"2024-04-06 09:23:50\", \"serial\":151085, \"ip\":\"203.255.190.49\"}\n",
            "connectware/indoor/data/1501 {\"dust\":\"51,66\",\"co2\":\"412\",\"bme680\":\"22.10,31.54,952549,101250,6.25\",\"time\":\"2024-04-06 09:23:51\", \"serial\":151086, \"ip\":\"203.255.190.49\"}\n",
            "connectware/indoor/data/1501 {\"dust\":\"52,67\",\"co2\":\"412\",\"bme680\":\"22.10,31.53,949188,101250,6.25\",\"time\":\"2024-04-06 09:23:52\", \"serial\":151087, \"ip\":\"203.255.190.49\"}\n",
            "connectware/indoor/data/1501 {\"dust\":\"52,67\",\"co2\":\"411\",\"bme680\":\"22.10,31.53,949858,101250,6.25\",\"time\":\"2024-04-06 09:23:53\", \"serial\":151088, \"ip\":\"203.255.190.49\"}\n",
            "connectware/indoor/data/1501 {\"dust\":\"52,67\",\"co2\":\"411\",\"bme680\":\"22.10,31.54,937935,101250,6.25\",\"time\":\"2024-04-06 09:23:54\", \"serial\":151089, \"ip\":\"203.255.190.49\"}\n",
            "connectware/indoor/data/1501 {\"dust\":\"52,67\",\"co2\":\"411\",\"bme680\":\"22.10,31.54,941876,101250,6.25\",\"time\":\"2024-04-06 09:23:55\", \"serial\":151090, \"ip\":\"203.255.190.49\"}\n",
            "connectware/indoor/data/1501 {\"dust\":\"52,67\",\"co2\":\"411\",\"bme680\":\"22.10,31.54,950530,101251,6.16\",\"time\":\"2024-04-06 09:23:56\", \"serial\":151091, \"ip\":\"203.255.190.49\"}\n",
            "https://api.thingspeak.com/update?api_key=485Z6LNRL1V40HKX&field1=411&field2=22.10 2\n",
            "connectware/indoor/data/1501 {\"dust\":\"50,66\",\"co2\":\"411\",\"bme680\":\"22.10,31.55,939245,101250,6.25\",\"time\":\"2024-04-06 09:23:57\", \"serial\":151092, \"ip\":\"203.255.190.49\"}\n",
            "connectware/indoor/data/1501 {\"dust\":\"50,66\",\"co2\":\"410\",\"bme680\":\"22.10,31.54,950530,101250,6.25\",\"time\":\"2024-04-06 09:23:58\", \"serial\":151093, \"ip\":\"203.255.190.49\"}\n",
            "connectware/indoor/data/1501 {\"dust\":\"51,64\",\"co2\":\"410\",\"bme680\":\"22.10,31.56,949858,101250,6.25\",\"time\":\"2024-04-06 09:23:59\", \"serial\":151094, \"ip\":\"203.255.190.49\"}\n",
            "connectware/indoor/data/1501 {\"dust\":\"51,65\",\"co2\":\"410\",\"bme680\":\"22.10,31.57,943197,101250,6.25\",\"time\":\"2024-04-06 09:24:00\", \"serial\":151095, \"ip\":\"203.255.190.49\"}\n",
            "connectware/indoor/data/1501 {\"dust\":\"51,64\",\"co2\":\"410\",\"bme680\":\"22.10,31.55,943859,101250,6.16\",\"time\":\"2024-04-06 09:24:01\", \"serial\":151096, \"ip\":\"203.255.190.49\"}\n",
            "connectware/indoor/data/1501 {\"dust\":\"51,63\",\"co2\":\"410\",\"bme680\":\"22.11,31.55,944522,101250,6.25\",\"time\":\"2024-04-06 09:24:02\", \"serial\":151097, \"ip\":\"203.255.190.49\"}\n",
            "connectware/indoor/data/1501 {\"dust\":\"50,62\",\"co2\":\"409\",\"bme680\":\"22.11,31.56,945186,101250,6.25\",\"time\":\"2024-04-06 09:24:03\", \"serial\":151098, \"ip\":\"203.255.190.49\"}\n",
            "connectware/indoor/data/1501 {\"dust\":\"50,62\",\"co2\":\"409\",\"bme680\":\"22.11,31.55,941876,101250,6.25\",\"time\":\"2024-04-06 09:24:04\", \"serial\":151099, \"ip\":\"203.255.190.49\"}\n",
            "connectware/indoor/data/1501 {\"dust\":\"50,62\",\"co2\":\"409\",\"bme680\":\"22.11,31.56,950530,101250,6.25\",\"time\":\"2024-04-06 09:24:05\", \"serial\":151100, \"ip\":\"203.255.190.49\"}\n",
            "connectware/indoor/data/1501 {\"dust\":\"50,62\",\"co2\":\"409\",\"bme680\":\"22.11,31.55,953900,101250,6.16\",\"time\":\"2024-04-06 09:24:06\", \"serial\":151101, \"ip\":\"203.255.190.49\"}\n",
            "connectware/indoor/data/1501 {\"dust\":\"49,60\",\"co2\":\"409\",\"bme680\":\"22.11,31.56,943197,101252,6.08\",\"time\":\"2024-04-06 09:24:07\", \"serial\":151102, \"ip\":\"203.255.190.49\"}\n",
            "connectware/indoor/data/1501 {\"dust\":\"49,60\",\"co2\":\"407\",\"bme680\":\"22.11,31.55,944522,101252,6.16\",\"time\":\"2024-04-06 09:24:08\", \"serial\":151103, \"ip\":\"203.255.190.49\"}\n",
            "connectware/indoor/data/1501 {\"dust\":\"50,61\",\"co2\":\"407\",\"bme680\":\"22.11,31.55,944522,101251,6.25\",\"time\":\"2024-04-06 09:24:09\", \"serial\":151104, \"ip\":\"203.255.190.49\"}\n",
            "connectware/indoor/data/1501 {\"dust\":\"49,60\",\"co2\":\"407\",\"bme680\":\"22.11,31.56,950530,101249,6.41\",\"time\":\"2024-04-06 09:24:10\", \"serial\":151105, \"ip\":\"203.255.190.49\"}\n",
            "connectware/indoor/data/1501 {\"dust\":\"49,60\",\"co2\":\"407\",\"bme680\":\"22.11,31.55,945850,101248,6.41\",\"time\":\"2024-04-06 09:24:11\", \"serial\":151106, \"ip\":\"203.255.190.49\"}\n",
            "connectware/indoor/data/1501 {\"dust\":\"49,60\",\"co2\":\"407\",\"bme680\":\"22.11,31.55,943197,101249,6.25\",\"time\":\"2024-04-06 09:24:12\", \"serial\":151107, \"ip\":\"203.255.190.49\"}\n",
            "https://api.thingspeak.com/update?api_key=485Z6LNRL1V40HKX&field1=407&field2=22.11 3\n",
            "connectware/indoor/data/1501 {\"dust\":\"49,60\",\"co2\":\"406\",\"bme680\":\"22.11,31.55,943859,101250,6.16\",\"time\":\"2024-04-06 09:24:13\", \"serial\":151108, \"ip\":\"203.255.190.49\"}\n",
            "connectware/indoor/data/1501 {\"dust\":\"51,62\",\"co2\":\"406\",\"bme680\":\"22.11,31.54,945186,101250,6.25\",\"time\":\"2024-04-06 09:24:14\", \"serial\":151109, \"ip\":\"203.255.190.49\"}\n",
            "connectware/indoor/data/1501 {\"dust\":\"50,61\",\"co2\":\"406\",\"bme680\":\"22.11,31.54,940559,101250,6.25\",\"time\":\"2024-04-06 09:24:15\", \"serial\":151110, \"ip\":\"203.255.190.49\"}\n",
            "connectware/indoor/data/1501 {\"dust\":\"50,61\",\"co2\":\"406\",\"bme680\":\"22.11,31.54,949858,101250,6.25\",\"time\":\"2024-04-06 09:24:16\", \"serial\":151111, \"ip\":\"203.255.190.49\"}\n",
            "connectware/indoor/data/1501 {\"dust\":\"49,61\",\"co2\":\"406\",\"bme680\":\"22.11,31.54,943859,101250,6.16\",\"time\":\"2024-04-06 09:24:17\", \"serial\":151112, \"ip\":\"203.255.190.49\"}\n",
            "connectware/indoor/data/1501 {\"dust\":\"51,62\",\"co2\":\"407\",\"bme680\":\"22.11,31.53,945850,101251,6.16\",\"time\":\"2024-04-06 09:24:18\", \"serial\":151113, \"ip\":\"203.255.190.49\"}\n"
          ]
        }
      ]
    }
  ]
}