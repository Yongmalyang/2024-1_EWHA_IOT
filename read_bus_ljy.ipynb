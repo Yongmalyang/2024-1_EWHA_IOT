{
  "nbformat": 4,
  "nbformat_minor": 0,
  "metadata": {
    "colab": {
      "provenance": [],
      "authorship_tag": "ABX9TyMcnkWG8MN7UTO4L4iNlBZi",
      "include_colab_link": true
    },
    "kernelspec": {
      "name": "python3",
      "display_name": "Python 3"
    },
    "language_info": {
      "name": "python"
    }
  },
  "cells": [
    {
      "cell_type": "markdown",
      "metadata": {
        "id": "view-in-github",
        "colab_type": "text"
      },
      "source": [
        "<a href=\"https://colab.research.google.com/github/Yongmalyang/2024-1_EWHA_IOT/blob/main/read_bus_ljy.ipynb\" target=\"_parent\"><img src=\"https://colab.research.google.com/assets/colab-badge.svg\" alt=\"Open In Colab\"/></a>"
      ]
    },
    {
      "cell_type": "code",
      "execution_count": 1,
      "metadata": {
        "id": "zHjApU89H91U",
        "colab": {
          "base_uri": "https://localhost:8080/"
        },
        "outputId": "1fddba65-ca8e-4f79-f1a8-2a0db0a2c7a2"
      },
      "outputs": [
        {
          "output_type": "stream",
          "name": "stdout",
          "text": [
            "<?xml version=\"1.0\" encoding=\"UTF-8\" standalone=\"yes\"?><response><comMsgHeader/><msgHeader><queryTime>2024-03-17 14:16:24.908</queryTime><resultCode>0</resultCode><resultMessage>정상적으로 처리되었습니다.</resultMessage></msgHeader><msgBody><busLocationList><endBus>0</endBus><lowPlate>0</lowPlate><plateNo>경기73아1301</plateNo><plateType>3</plateType><remainSeatCnt>43</remainSeatCnt><routeId>219000013</routeId><stationId>219000400</stationId><stationSeq>56</stationSeq></busLocationList><busLocationList><endBus>0</endBus><lowPlate>0</lowPlate><plateNo>경기73아1481</plateNo><plateType>3</plateType><remainSeatCnt>39</remainSeatCnt><routeId>219000013</routeId><stationId>219000356</stationId><stationSeq>9</stationSeq></busLocationList><busLocationList><endBus>0</endBus><lowPlate>0</lowPlate><plateNo>경기73아1439</plateNo><plateType>3</plateType><remainSeatCnt>40</remainSeatCnt><routeId>219000013</routeId><stationId>219000383</stationId><stationSeq>48</stationSeq></busLocationList><busLocationList><endBus>0</endBus><lowPlate>0</lowPlate><plateNo>경기73아1120</plateNo><plateType>3</plateType><remainSeatCnt>23</remainSeatCnt><routeId>219000013</routeId><stationId>277103090</stationId><stationSeq>18</stationSeq></busLocationList><busLocationList><endBus>0</endBus><lowPlate>0</lowPlate><plateNo>경기73아1135</plateNo><plateType>3</plateType><remainSeatCnt>33</remainSeatCnt><routeId>219000013</routeId><stationId>100000034</stationId><stationSeq>27</stationSeq></busLocationList><busLocationList><endBus>0</endBus><lowPlate>0</lowPlate><plateNo>경기73아1443</plateNo><plateType>3</plateType><remainSeatCnt>35</remainSeatCnt><routeId>219000013</routeId><stationId>218000319</stationId><stationSeq>44</stationSeq></busLocationList><busLocationList><endBus>0</endBus><lowPlate>0</lowPlate><plateNo>경기73아1445</plateNo><plateType>3</plateType><remainSeatCnt>39</remainSeatCnt><routeId>219000013</routeId><stationId>218000319</stationId><stationSeq>44</stationSeq></busLocationList><busLocationList><endBus>0</endBus><lowPlate>0</lowPlate><plateNo>경기73아1463</plateNo><plateType>3</plateType><remainSeatCnt>26</remainSeatCnt><routeId>219000013</routeId><stationId>219000454</stationId><stationSeq>11</stationSeq></busLocationList><busLocationList><endBus>0</endBus><lowPlate>0</lowPlate><plateNo>경기73아1451</plateNo><plateType>3</plateType><remainSeatCnt>24</remainSeatCnt><routeId>219000013</routeId><stationId>277104683</stationId><stationSeq>37</stationSeq></busLocationList><busLocationList><endBus>0</endBus><lowPlate>0</lowPlate><plateNo>경기73아1453</plateNo><plateType>3</plateType><remainSeatCnt>27</remainSeatCnt><routeId>219000013</routeId><stationId>112000013</stationId><stationSeq>36</stationSeq></busLocationList><busLocationList><endBus>0</endBus><lowPlate>0</lowPlate><plateNo>경기73아1454</plateNo><plateType>3</plateType><remainSeatCnt>27</remainSeatCnt><routeId>219000013</routeId><stationId>101000022</stationId><stationSeq>30</stationSeq></busLocationList><busLocationList><endBus>0</endBus><lowPlate>0</lowPlate><plateNo>경기73아1460</plateNo><plateType>3</plateType><remainSeatCnt>20</remainSeatCnt><routeId>219000013</routeId><stationId>277104680</stationId><stationSeq>19</stationSeq></busLocationList><busLocationList><endBus>0</endBus><lowPlate>0</lowPlate><plateNo>경기73아1456</plateNo><plateType>3</plateType><remainSeatCnt>35</remainSeatCnt><routeId>219000013</routeId><stationId>277101784</stationId><stationSeq>24</stationSeq></busLocationList><busLocationList><endBus>0</endBus><lowPlate>0</lowPlate><plateNo>경기73아1458</plateNo><plateType>3</plateType><remainSeatCnt>32</remainSeatCnt><routeId>219000013</routeId><stationId>277103096</stationId><stationSeq>21</stationSeq></busLocationList><busLocationList><endBus>0</endBus><lowPlate>0</lowPlate><plateNo>경기73아1440</plateNo><plateType>3</plateType><remainSeatCnt>31</remainSeatCnt><routeId>219000013</routeId><stationId>219000385</stationId><stationSeq>47</stationSeq></busLocationList><busLocationList><endBus>0</endBus><lowPlate>0</lowPlate><plateNo>경기73아1438</plateNo><plateType>3</plateType><remainSeatCnt>42</remainSeatCnt><routeId>219000013</routeId><stationId>219000190</stationId><stationSeq>50</stationSeq></busLocationList><busLocationList><endBus>0</endBus><lowPlate>0</lowPlate><plateNo>경기73아1593</plateNo><plateType>3</plateType><remainSeatCnt>41</remainSeatCnt><routeId>219000013</routeId><stationId>219000363</stationId><stationSeq>7</stationSeq></busLocationList><busLocationList><endBus>0</endBus><lowPlate>0</lowPlate><plateNo>경기73아1462</plateNo><plateType>3</plateType><remainSeatCnt>29</remainSeatCnt><routeId>219000013</routeId><stationId>218000316</stationId><stationSeq>13</stationSeq></busLocationList><busLocationList><endBus>0</endBus><lowPlate>0</lowPlate><plateNo>경기73아1448</plateNo><plateType>3</plateType><remainSeatCnt>43</remainSeatCnt><routeId>219000013</routeId><stationId>218000078</stationId><stationSeq>43</stationSeq></busLocationList><busLocationList><endBus>0</endBus><lowPlate>0</lowPlate><plateNo>경기73아1430</plateNo><plateType>3</plateType><remainSeatCnt>40</remainSeatCnt><routeId>219000013</routeId><stationId>219000193</stationId><stationSeq>53</stationSeq></busLocationList><busLocationList><endBus>0</endBus><lowPlate>0</lowPlate><plateNo>경기73아1302</plateNo><plateType>3</plateType><remainSeatCnt>40</remainSeatCnt><routeId>219000013</routeId><stationId>219000193</stationId><stationSeq>53</stationSeq></busLocationList></msgBody></response>\n"
          ]
        }
      ],
      "source": [
        "import requests\n",
        "url='http://openapi.gbis.go.kr/ws/rest/buslocationservice?serviceKey=1234567890&routeId=219000013'\n",
        "r = requests.get(url)\n",
        "print(r.text)"
      ]
    },
    {
      "cell_type": "code",
      "source": [
        "from bs4 import BeautifulSoup\n",
        "\n",
        "soup = BeautifulSoup(r.text, features=\"xml\")"
      ],
      "metadata": {
        "id": "Ks23j4tG1qzc"
      },
      "execution_count": 2,
      "outputs": []
    },
    {
      "cell_type": "code",
      "source": [
        "soup.find_all('stationId')"
      ],
      "metadata": {
        "colab": {
          "base_uri": "https://localhost:8080/"
        },
        "id": "mP38R8HS1vwA",
        "outputId": "682c2c95-b172-4a2d-8bc9-8c4cb5366dd1"
      },
      "execution_count": 3,
      "outputs": [
        {
          "output_type": "execute_result",
          "data": {
            "text/plain": [
              "[<stationId>219000400</stationId>,\n",
              " <stationId>219000356</stationId>,\n",
              " <stationId>219000383</stationId>,\n",
              " <stationId>277103090</stationId>,\n",
              " <stationId>100000034</stationId>,\n",
              " <stationId>218000319</stationId>,\n",
              " <stationId>218000319</stationId>,\n",
              " <stationId>219000454</stationId>,\n",
              " <stationId>277104683</stationId>,\n",
              " <stationId>112000013</stationId>,\n",
              " <stationId>101000022</stationId>,\n",
              " <stationId>277104680</stationId>,\n",
              " <stationId>277101784</stationId>,\n",
              " <stationId>277103096</stationId>,\n",
              " <stationId>219000385</stationId>,\n",
              " <stationId>219000190</stationId>,\n",
              " <stationId>219000363</stationId>,\n",
              " <stationId>218000316</stationId>,\n",
              " <stationId>218000078</stationId>,\n",
              " <stationId>219000193</stationId>,\n",
              " <stationId>219000193</stationId>]"
            ]
          },
          "metadata": {},
          "execution_count": 3
        }
      ]
    }
  ]
}