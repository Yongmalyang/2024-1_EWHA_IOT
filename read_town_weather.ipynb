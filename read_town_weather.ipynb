{
  "nbformat": 4,
  "nbformat_minor": 0,
  "metadata": {
    "colab": {
      "provenance": [],
      "authorship_tag": "ABX9TyNFmUH+o/hb70hfWf0ztz+F",
      "include_colab_link": true
    },
    "kernelspec": {
      "name": "python3",
      "display_name": "Python 3"
    },
    "language_info": {
      "name": "python"
    }
  },
  "cells": [
    {
      "cell_type": "markdown",
      "metadata": {
        "id": "view-in-github",
        "colab_type": "text"
      },
      "source": [
        "<a href=\"https://colab.research.google.com/github/Yongmalyang/2024-1_EWHA_IOT/blob/main/read_town_weather.ipynb\" target=\"_parent\"><img src=\"https://colab.research.google.com/assets/colab-badge.svg\" alt=\"Open In Colab\"/></a>"
      ]
    },
    {
      "cell_type": "code",
      "execution_count": null,
      "metadata": {
        "colab": {
          "base_uri": "https://localhost:8080/"
        },
        "id": "ia4ob31ZcqkI",
        "outputId": "82de5c66-3e4f-4194-a3e2-75ce38e98d32"
      },
      "outputs": [
        {
          "output_type": "stream",
          "name": "stdout",
          "text": [
            "<?xml version=\"1.0\" encoding=\"UTF-8\"?>\r\n",
            "<response><header><resultCode>00</resultCode><resultMsg>NORMAL_SERVICE</resultMsg></header><body><dataType>XML</dataType><items><item><tm>2019-01-03 00:00</tm><totalCityName>제주 서귀포시</totalCityName><doName>제주</doName><cityName>서귀포시</cityName><cityAreaId>5013000000</cityAreaId><kmaTci>57.3</kmaTci><TCI_GRADE>보통</TCI_GRADE></item><item><tm>2019-01-02 00:00</tm><totalCityName>제주 서귀포시</totalCityName><doName>제주</doName><cityName>서귀포시</cityName><cityAreaId>5013000000</cityAreaId><kmaTci>50.06</kmaTci><TCI_GRADE>보통</TCI_GRADE></item><item><tm>2019-01-01 00:00</tm><totalCityName>제주 서귀포시</totalCityName><doName>제주</doName><cityName>서귀포시</cityName><cityAreaId>5013000000</cityAreaId><kmaTci>43.88</kmaTci><TCI_GRADE>보통</TCI_GRADE></item></items><numOfRows>10</numOfRows><pageNo>1</pageNo><totalCount>3</totalCount></body></response>\r\n",
            "\n"
          ]
        }
      ],
      "source": [
        "import requests\n",
        "url = 'http://apis.data.go.kr/1360000/TourStnInfoService1/getCityTourClmIdx1?ServiceKey=g%2BcLaR2cR5akIPDaMuODc3zr3xXktclxK4A9eAx0TMv7KOVZRyTIJP5B7JzesZtkyaKTV5O%2BdvZIZ7Ap7Qxu7w%3D%3D&pageNo=1&numOfRows=10&dataType=XML&CURRENT_DATE=2018123110&DAY=3&CITY_AREA_ID=5013000000'\n",
        "r = requests.get(url)\n",
        "print(r.text)\n"
      ]
    },
    {
      "cell_type": "code",
      "source": [
        "from bs4 import BeautifulSoup\n",
        "\n",
        "soup = BeautifulSoup(r.text, features=\"xml\")"
      ],
      "metadata": {
        "id": "xYfdFOvOBVFu"
      },
      "execution_count": 5,
      "outputs": []
    },
    {
      "cell_type": "code",
      "source": [
        "soup.find_all('cityName')"
      ],
      "metadata": {
        "colab": {
          "base_uri": "https://localhost:8080/"
        },
        "id": "R0Oi_P_tBo3P",
        "outputId": "0e9326a1-c88e-4c08-b685-b7d4226aa880"
      },
      "execution_count": 6,
      "outputs": [
        {
          "output_type": "execute_result",
          "data": {
            "text/plain": [
              "[<cityName>서귀포시</cityName>,\n",
              " <cityName>서귀포시</cityName>,\n",
              " <cityName>서귀포시</cityName>]"
            ]
          },
          "metadata": {},
          "execution_count": 6
        }
      ]
    }
  ]
}